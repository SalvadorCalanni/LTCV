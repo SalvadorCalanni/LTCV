{
 "cells": [
  {
   "cell_type": "markdown",
   "id": "213daa85",
   "metadata": {
    "slideshow": {
     "slide_type": "-"
    }
   },
   "source": [
    "# Visual looming stimuli with variable contrast"
   ]
  },
  {
   "cell_type": "markdown",
   "id": "21149ace",
   "metadata": {},
   "source": [
    "To run this script, you'll need to intall the turtle module. You can do it using this comand on the env you are running jupyer notebook: pip install mobilechelonian. See this tutorial for detailed instructions: https://www.coderdojotc.org/python/jupyter/01-setup/#:~:text=Here%20are%20the%20steps%20we,to%20install%20the%20turtle%20library\n",
    "        "
   ]
  },
  {
   "cell_type": "code",
   "execution_count": 3,
   "id": "e769339a",
   "metadata": {},
   "outputs": [],
   "source": [
    "import turtle\n",
    "import time\n",
    "import timeit\n",
    "import random"
   ]
  },
  {
   "cell_type": "markdown",
   "id": "2381f441",
   "metadata": {},
   "source": [
    "The following cell has the functions needed for the script. It is not necesary to change anything, just be sure you run it."
   ]
  },
  {
   "cell_type": "code",
   "execution_count": 4,
   "id": "9e1fb8b9",
   "metadata": {},
   "outputs": [],
   "source": [
    "def hacer_disco(color):\n",
    "    disco = turtle.Turtle()\n",
    "    disco.shape(\"circle\")\n",
    "    disco.color(color)\n",
    "    return disco\n",
    "\n",
    "\n",
    "def estimulo (color, diam_max, incremento, cronometrar = False):\n",
    "    disco = hacer_disco(color)\n",
    "    rep = 0\n",
    "    while rep < 3:\n",
    "        diametro = 0.1\n",
    "        disco.st()\n",
    "        inicio = time.time()\n",
    "        while diametro < diam_max:\n",
    "            diametro += incremento\n",
    "            disco.shapesize(diametro, diametro)\n",
    "        fin = time.time()\n",
    "        tot = round(fin - inicio,3)\n",
    "        if cronometrar:\n",
    "            print (\"Time of disk expansion\", tot, \"sec\")        \n",
    "        time.sleep(0.5)\n",
    "        disco.ht()\n",
    "        rep += 1\n",
    "    print(color)\n",
    "\n",
    "\n",
    "    \n",
    "def sesion(lista, repeticiones, diam_max, incremento, cronometrar = False):\n",
    "    \n",
    "    animal = input (\"ID_animal\")\n",
    "    archivo = open(animal, \"w\")\n",
    "    print(animal, file=archivo)\n",
    "    print(\" \", file=archivo)\n",
    "    print( \"Gray\", \"Response\", \"time(s)\", file=archivo)\n",
    "\n",
    "    input (\"Press enter to start timing (ideally, at the same time you start recording)\")\n",
    "    inicio_sesion = time.time() \n",
    "    \n",
    "    lista_estimulos = lista * repeticiones\n",
    "    while len(lista_estimulos)>0:\n",
    "        \n",
    "        tiempo = time.time()\n",
    "        tiempo_estimulo = round(tiempo - inicio_sesion, 2)\n",
    "        \n",
    "        color = random.choice(lista_estimulos)\n",
    "        estimulo (color, diam_max, incremento, cronometrar)\n",
    "        lista_estimulos.remove(color)\n",
    "        \n",
    "        res = input (\"¿respondió?\")\n",
    "        print( color, res, tiempo_estimulo, file=archivo)\n",
    "        \n",
    "        print(len(lista_estimulos), \"stimuly left\")\n",
    "        input(\"press enter to trigger the next stimuly\")\n",
    "    if len(lista_estimulos) == 0:\n",
    "        archivo.close()\n",
    "        print(\"End of session. The file\", animal, \"was succesfully created\")\n",
    "    \n",
    "\n",
    "    \n",
    "def sesion_set_parameters(lista, repeticiones, diam_max, incremento, cronometrar = True):\n",
    "    \n",
    "\n",
    "    lista_estimulos = lista * repeticiones\n",
    "    inicio_sesion = time.time() \n",
    "    \n",
    "    while len(lista_estimulos)>0:\n",
    "        \n",
    "        color = random.choice(lista_estimulos)\n",
    "        estimulo (color, diam_max, incremento, cronometrar)\n",
    "        lista_estimulos.remove(color)\n",
    "        \n",
    "        tiempo = time.time()\n",
    "        tiempo_estimulo = tiempo - inicio_sesion\n"
   ]
  },
  {
   "cell_type": "markdown",
   "id": "55c75a81",
   "metadata": {},
   "source": [
    "You should see a new window (wn) when running the following cell. This wn will display the stimuly and should be placed on the arena's monitor on full screen mode. Dont worry if you se a \"Not Responding\" sign."
   ]
  },
  {
   "cell_type": "code",
   "execution_count": 5,
   "id": "858e86f9",
   "metadata": {},
   "outputs": [],
   "source": [
    "wn = turtle.Screen()\n",
    "wn.bgcolor(\"#7f7f7f\")"
   ]
  },
  {
   "cell_type": "markdown",
   "id": "749fcbbd",
   "metadata": {},
   "source": [
    "Disc expansion parameters: in the following cell you should set the maximum diameter of the disc (max_diam) which shold be equal to the screen size, and the velocity of the expansion. After you run the cell you should see 3 expansion of a black disc. The time of each expansion will be shown below the cell. Expansion time sholud be near 0.5 sec."
   ]
  },
  {
   "cell_type": "code",
   "execution_count": 6,
   "id": "376e8c09",
   "metadata": {},
   "outputs": [
    {
     "name": "stdout",
     "output_type": "stream",
     "text": [
      "Time of disk expansion 0.573 sec\n",
      "Time of disk expansion 0.568 sec\n",
      "Time of disk expansion 0.508 sec\n",
      "#252525\n"
     ]
    }
   ],
   "source": [
    "#Set the following parameters:\n",
    "max_diam = 40\n",
    "vel = 1.3\n",
    "\n",
    "#The following line triggers a testing stimuly, it is not necessary to modify this line.\n",
    "sesion_set_parameters([\"#252525\"], 1, max_diam, vel)"
   ]
  },
  {
   "cell_type": "markdown",
   "id": "f10a5f98",
   "metadata": {},
   "source": [
    "Fianlly, you shold set an appropiate list of gray intensities suitable for you experimental conditions.This script uses the hexadecimal code of colors, where #000000 is black and #ffffff is white. #7f7f7f is 50% white and 50%black, and is also the color of the background for the stimuli screen. So the color of the disc sholud always be between #000000 and #7f7f7f. More info: https://en.wikipedia.org/wiki/Web_colors.\n",
    "Ideally, the lowest gray in your list should almost never trigger a response in your animals, and the highest gray should be the only oine that always triggers a response in your control animals. In the cell bellow, we provide a list of colors we found optimal for rats and an other for mice in our experimental conditions. Also, the list called \"Testing\" may be a good start to find the otimal list uder your conditions. Note that adding more colors will improbe the resolution of your intensity-response curves, but also will increase the time of the test."
   ]
  },
  {
   "cell_type": "code",
   "execution_count": 7,
   "id": "a8eca92a",
   "metadata": {},
   "outputs": [],
   "source": [
    "MiceArena = [\"#494949\", \"#4b4b4b\", \"#5a5a5a\", \"#606060\",\"#646464\", \"#696969\"]\n",
    "Arena_Marqui = [\"#494949\",\"#575757\",\"#606060\",\"#666666\",\"#6c6c6c\",\"#727272\"]\n",
    "RatsArena = [\"#5a5a5a\",\"#606060\",\"#646464\", \"#696969\",\"#6e6e6e\"]\n",
    "Testing = [\"#494949\", \"#5a5a5a\",\"#606060\", \"#696969\",\"#6e6e6e\",\"#727272\"]"
   ]
  },
  {
   "cell_type": "markdown",
   "id": "eb2c2cd6",
   "metadata": {},
   "source": [
    "For the cell bellow, you have to set the list of intensities that will be used (from the cell above) and the number of repetitions you wish for each intenity. Remember that the amount of stimuli that an animal will recibe is the number of intensities in the list multiplied by the number of repetitions.\n",
    "\n",
    "In our conditions, mice worked well with 4 repetitions, but rats worked better with only 3 repetitions since rats maintained an active exploratory behaviour of the arena for less time.\n",
    "\n",
    "When runing the cell, you will be requested to write the ID of the animal and to start recording. Then you can start triggering the stimuli by pressing enter. After each stimuly you can type the observed response (e.g. 0 if there was no response, 1 or \"fr\" if you observed a freezing response. You can also left a blank space. At the end of the session, a new file named as the animal's ID, the intensity and the times of each stimuly, and the observed responses will be created in the same folder where this script is stored."
   ]
  },
  {
   "cell_type": "code",
   "execution_count": 8,
   "id": "76f6c068",
   "metadata": {
    "scrolled": true
   },
   "outputs": [
    {
     "name": "stdout",
     "output_type": "stream",
     "text": [
      "ID_animalxfvgd\n",
      "Press enter to start timing (ideally, at the same time you start recording)\n",
      "#727272\n",
      "¿respondió?\n",
      "17 stimuly left\n",
      "press enter to trigger the next stimuly\n",
      "#6e6e6e\n",
      "¿respondió?\n",
      "16 stimuly left\n",
      "press enter to trigger the next stimuly\n",
      "#5a5a5a\n",
      "¿respondió?\n",
      "15 stimuly left\n",
      "press enter to trigger the next stimuly\n",
      "#5a5a5a\n",
      "¿respondió?\n",
      "14 stimuly left\n",
      "press enter to trigger the next stimuly\n",
      "#494949\n",
      "¿respondió?\n",
      "13 stimuly left\n",
      "press enter to trigger the next stimuly\n",
      "#494949\n",
      "¿respondió?\n",
      "12 stimuly left\n",
      "press enter to trigger the next stimuly\n",
      "#696969\n",
      "¿respondió?\n",
      "11 stimuly left\n",
      "press enter to trigger the next stimuly\n",
      "#727272\n",
      "¿respondió?\n",
      "10 stimuly left\n",
      "press enter to trigger the next stimuly\n",
      "#606060\n",
      "¿respondió?\n",
      "9 stimuly left\n",
      "press enter to trigger the next stimuly\n",
      "#6e6e6e\n",
      "¿respondió?\n",
      "8 stimuly left\n",
      "press enter to trigger the next stimuly\n",
      "#696969\n",
      "¿respondió?\n",
      "7 stimuly left\n",
      "press enter to trigger the next stimuly\n",
      "#696969\n",
      "¿respondió?\n",
      "6 stimuly left\n",
      "press enter to trigger the next stimuly\n",
      "#6e6e6e\n",
      "¿respondió?\n",
      "5 stimuly left\n",
      "press enter to trigger the next stimuly\n",
      "#606060\n",
      "¿respondió?\n",
      "4 stimuly left\n",
      "press enter to trigger the next stimuly\n",
      "#5a5a5a\n",
      "¿respondió?\n",
      "3 stimuly left\n",
      "press enter to trigger the next stimuly\n",
      "#606060\n",
      "¿respondió?\n",
      "2 stimuly left\n",
      "press enter to trigger the next stimuly\n",
      "#727272\n",
      "¿respondió?\n",
      "1 stimuly left\n",
      "press enter to trigger the next stimuly\n",
      "#494949\n",
      "¿respondió?\n",
      "0 stimuly left\n",
      "press enter to trigger the next stimuly\n",
      "End of session. The file xfvgd was succesfully created\n"
     ]
    }
   ],
   "source": [
    "list_of_intensities = Arena_Marqui\n",
    "repetitions = 3\n",
    "\n",
    "\n",
    "sesion(list_of_intensities, repetitions, max_diam, vel)"
   ]
  },
  {
   "cell_type": "markdown",
   "id": "e4363847",
   "metadata": {},
   "source": [
    "If you wish to run a new session, dont clse anything, just run again the last cell. Have in mind that if you type the same animal_ID twice, the first file will be rewrited."
   ]
  },
  {
   "cell_type": "code",
   "execution_count": null,
   "id": "4b8e298a",
   "metadata": {},
   "outputs": [],
   "source": []
  }
 ],
 "metadata": {
  "celltoolbar": "Raw Cell Format",
  "kernelspec": {
   "display_name": "Python 3",
   "language": "python",
   "name": "python3"
  },
  "language_info": {
   "codemirror_mode": {
    "name": "ipython",
    "version": 3
   },
   "file_extension": ".py",
   "mimetype": "text/x-python",
   "name": "python",
   "nbconvert_exporter": "python",
   "pygments_lexer": "ipython3",
   "version": "3.6.13"
  }
 },
 "nbformat": 4,
 "nbformat_minor": 5
}
